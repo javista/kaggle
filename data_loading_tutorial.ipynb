{
 "cells": [
  {
   "cell_type": "code",
   "execution_count": 1,
   "metadata": {
    "collapsed": true
   },
   "outputs": [],
   "source": [
    "import utils\n",
    "import scipy"
   ]
  },
  {
   "cell_type": "code",
   "execution_count": 2,
   "metadata": {
    "collapsed": true
   },
   "outputs": [],
   "source": [
    "# audio configuration for 푸리에 트랜스폼\n",
    "audio_conf = {}\n",
    "audio_conf[\"sample_rate\"] = 16000 # dataset의 sample rate는 16000\n",
    "audio_conf[\"window_size\"] = 0.02\n",
    "audio_conf[\"window_stride\"] = 0.01\n",
    "audio_conf[\"window\"] = scipy.signal.hamming"
   ]
  },
  {
   "cell_type": "code",
   "execution_count": 3,
   "metadata": {
    "collapsed": false
   },
   "outputs": [],
   "source": [
    "dset = utils.SpectogramDataset(audio_conf,'./data/train/audio/')"
   ]
  },
  {
   "cell_type": "code",
   "execution_count": 4,
   "metadata": {
    "collapsed": false
   },
   "outputs": [],
   "source": [
    "train_loader = utils.AudioDataLoader(dset,20,4) # dataset, batch size, number of workers"
   ]
  },
  {
   "cell_type": "code",
   "execution_count": 5,
   "metadata": {
    "collapsed": true
   },
   "outputs": [],
   "source": [
    "for i,data in enumerate(train_loader):\n",
    "    break"
   ]
  },
  {
   "cell_type": "code",
   "execution_count": 6,
   "metadata": {
    "collapsed": false
   },
   "outputs": [
    {
     "data": {
      "text/plain": [
       "0"
      ]
     },
     "execution_count": 6,
     "metadata": {},
     "output_type": "execute_result"
    }
   ],
   "source": [
    "i"
   ]
  },
  {
   "cell_type": "code",
   "execution_count": 7,
   "metadata": {
    "collapsed": false
   },
   "outputs": [
    {
     "data": {
      "text/plain": [
       "\n",
       "( 0 ,.,.) = \n",
       "  20.8542  20.9768  18.1371  ...   21.0670  18.0497  21.3765\n",
       "  21.5678  21.9287  22.0461  ...   20.8754  20.3600  20.8709\n",
       "  21.1607  22.7584  22.5343  ...   19.7577  20.0446  18.0585\n",
       "            ...               ⋱              ...            \n",
       "  13.6546  13.9884  13.5318  ...   14.7220  14.2956  15.3727\n",
       "  13.1991  14.5187  12.8555  ...   15.0159  13.2472  15.6403\n",
       "  13.9049  14.0903  14.0379  ...   15.0571  13.7597  15.6127\n",
       "\n",
       "( 1 ,.,.) = \n",
       "  15.9466  14.8922  15.0872  ...   14.2892  13.9240  16.5938\n",
       "  15.0177  15.8839  15.7831  ...   15.4957  16.0861  16.3345\n",
       "  15.9672  16.6239  14.9106  ...   17.3095  16.9170  16.8638\n",
       "            ...               ⋱              ...            \n",
       "  12.7251  12.2055  12.0963  ...   11.6872  12.1516  12.2163\n",
       "  13.1097  12.9166  10.0497  ...   13.0331  10.8005  10.4282\n",
       "  13.2862  12.9731  11.6961  ...   12.1331  12.8189  10.9529\n",
       "\n",
       "( 2 ,.,.) = \n",
       "  14.6667  13.0422  13.2325  ...   14.1742  12.7869  12.3870\n",
       "  15.0009  14.6311  13.4206  ...   13.4889  13.6031  13.0306\n",
       "  14.0928  15.3831  14.8507  ...   14.5642  14.5168  14.5764\n",
       "            ...               ⋱              ...            \n",
       "  12.9594  12.1043  12.2175  ...   12.7418  12.0723  11.3684\n",
       "  11.0722  12.0726  11.4355  ...   12.5634  12.1233  11.4853\n",
       "  12.6326  12.0336  11.7679  ...   12.1207  11.8978  10.5566\n",
       "... \n",
       "\n",
       "( 7 ,.,.) = \n",
       "  16.0511  14.8527  15.5073  ...   15.0620  13.7820  16.0172\n",
       "  15.8533  14.0960  14.5672  ...   14.5902  15.1293  16.2630\n",
       "  15.5363  14.8775  14.1272  ...   14.7771  15.8301  15.8140\n",
       "            ...               ⋱              ...            \n",
       "  13.4303  12.6845  12.2135  ...   12.8304  12.3076  12.5447\n",
       "  12.7572  11.9837  11.0829  ...   12.5260  11.5390  12.8952\n",
       "  11.4334  12.7543  12.0738  ...   12.7644  11.7497  12.8284\n",
       "\n",
       "( 8 ,.,.) = \n",
       "  10.4070  12.3966  12.4225  ...   14.4090  12.3173  15.1556\n",
       "  12.4391  12.7778  12.9555  ...   15.6037  14.6309  15.9136\n",
       "  11.6058  13.1830  13.9144  ...   16.6768  16.5267  16.6326\n",
       "            ...               ⋱              ...            \n",
       "  13.3802  12.9195  11.5749  ...   14.0445  12.5242  14.5379\n",
       "  13.3773  12.8636  12.3170  ...   14.3826  13.5939  13.9150\n",
       "  13.0747  12.8866  13.3955  ...   13.3246  11.9450  14.6767\n",
       "\n",
       "( 9 ,.,.) = \n",
       "  21.8524  21.6567  21.7475  ...   21.7637  21.6545  21.7609\n",
       "  21.2167  20.6096  21.0309  ...   20.9586  20.6329  21.1481\n",
       "  19.9130  18.9974  19.0252  ...   19.8769  18.3727  19.9393\n",
       "            ...               ⋱              ...            \n",
       "  14.2343  12.5146  12.8696  ...   12.8489  12.2988  12.8253\n",
       "  14.5273  12.2988  11.1182  ...   12.2767  13.0673  10.5923\n",
       "  14.4450  12.6928  11.6044  ...   13.1715  12.3993  11.6152\n",
       "[torch.FloatTensor of size 10x161x101]"
      ]
     },
     "execution_count": 7,
     "metadata": {},
     "output_type": "execute_result"
    }
   ],
   "source": [
    "data[0]"
   ]
  },
  {
   "cell_type": "code",
   "execution_count": 8,
   "metadata": {
    "collapsed": false
   },
   "outputs": [
    {
     "data": {
      "text/plain": [
       "('elem',\n",
       " 'elem',\n",
       " 'elem',\n",
       " 'elem',\n",
       " 'elem',\n",
       " 'elem',\n",
       " 'elem',\n",
       " 'elem',\n",
       " 'elem',\n",
       " 'elem')"
      ]
     },
     "execution_count": 8,
     "metadata": {},
     "output_type": "execute_result"
    }
   ],
   "source": [
    "data[1]"
   ]
  },
  {
   "cell_type": "code",
   "execution_count": null,
   "metadata": {
    "collapsed": true
   },
   "outputs": [],
   "source": []
  }
 ],
 "metadata": {
  "anaconda-cloud": {},
  "kernelspec": {
   "display_name": "Python [conda env:torch]",
   "language": "python",
   "name": "conda-env-torch-py"
  },
  "language_info": {
   "codemirror_mode": {
    "name": "ipython",
    "version": 3
   },
   "file_extension": ".py",
   "mimetype": "text/x-python",
   "name": "python",
   "nbconvert_exporter": "python",
   "pygments_lexer": "ipython3",
   "version": "3.6.1"
  }
 },
 "nbformat": 4,
 "nbformat_minor": 1
}
